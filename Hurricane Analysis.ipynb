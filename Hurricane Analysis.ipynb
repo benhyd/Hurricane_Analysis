{
 "cells": [
  {
   "cell_type": "markdown",
   "id": "58875e7a",
   "metadata": {},
   "source": [
    "# Hurricane Analysis"
   ]
  },
  {
   "cell_type": "markdown",
   "id": "9a2d9627",
   "metadata": {},
   "source": [
    "#### Overview"
   ]
  },
  {
   "cell_type": "markdown",
   "id": "633e5dde",
   "metadata": {},
   "source": [
    "This project is slightly different than others you have encountered thus far. Instead of a step-by-step tutorial, this project contains a series of open-ended requirements which describe the project you'll be building. There are many possible ways to correctly fulfill all of these requirements, and you should expect to use the internet, Codecademy, and other resources when you encounter a problem that you cannot easily solve."
   ]
  },
  {
   "cell_type": "markdown",
   "id": "52f01f07",
   "metadata": {},
   "source": [
    "#### Project Goals"
   ]
  },
  {
   "cell_type": "markdown",
   "id": "d9d06c43",
   "metadata": {},
   "source": [
    "You will work to write several functions that organize and manipulate data about Category 5 Hurricanes, the strongest hurricanes as rated by their wind speed. Each one of these functions will use a number of parameters, conditionals, lists, dictionaries, string manipulation, and return statements."
   ]
  },
  {
   "cell_type": "markdown",
   "id": "7fbb9fb5",
   "metadata": {},
   "source": [
    "#### Prerequisites"
   ]
  },
  {
   "cell_type": "markdown",
   "id": "4732a1e8",
   "metadata": {},
   "source": [
    "In order to complete this project, you should have completed the Loops and Dictionaries sections of the [Learn Python 3 Course](https://www.codecademy.com/learn/learn-python-3). This content is also covered in the [Data Scientist Career Path](https://www.codecademy.com/learn/paths/data-science/)."
   ]
  },
  {
   "cell_type": "markdown",
   "id": "1e924903",
   "metadata": {},
   "source": [
    "## Project Requirements"
   ]
  },
  {
   "cell_type": "markdown",
   "id": "35d6f74d",
   "metadata": {},
   "source": [
    "1. Hurricanes, also known as cyclones or typhoons, are one of the most powerful forces of nature on Earth. Due to climate change caused by human activity, the number and intensity of hurricanes has risen, calling for better preparation by the many communities that are devastated by them. As a concerned environmentalist, you want to look at data about the most powerful hurricanes that have occured. \n",
    "\n",
    "   Begin by looking at the `damages` list. The list contains strings representing the total cost in USD(`$`) caused by `34` category 5 hurricanes (wind speeds $\\ge$ 157 mph (252 km/h)) in the Atlantic region. For some of the hurricanes, damage data was not recorded (`\"Damages not recorded\"`), while the rest are written in the format `\"Prefix-B/M\"`, where `B` stands for billions (`1000000000`) and `M` stands for millions (`1000000`).\n",
    "   \n",
    "   Write a function that returns a new list of updated damages where the recorded data is converted to float values and the missing data is retained as `\"Damages not recorded\"`.\n",
    "   \n",
    "   Test your function with the data stored in `damages`."
   ]
  },
  {
   "cell_type": "code",
   "execution_count": 2,
   "id": "d8d3c50b",
   "metadata": {},
   "outputs": [
    {
     "name": "stdout",
     "output_type": "stream",
     "text": [
      "['Damages not recorded', 100000000.0, 'Damages not recorded', 40000000.0, 27900000.0, 5000000.0, 'Damages not recorded', 306000000.0, 2000000.0, 65800000.0, 326000000.0, 60300000.0, 208000000.0, 1420000000.0, 25400000.0, 'Damages not recorded', 1540000000.0, 1240000000.0, 7100000000.0, 10000000000.0, 26500000000.0, 6200000000.0, 5370000000.0, 23300000000.0, 1010000000.0, 125000000000.0, 12000000000.0, 29400000000.0, 1760000000.0, 720000000.0, 15100000000.0, 64800000000.0, 91600000000.0, 25100000000.0]\n"
     ]
    }
   ],
   "source": [
    "# damages (USD($)) of hurricanes\n",
    "damages = ['Damages not recorded', '100M', 'Damages not recorded', '40M',\n",
    "          '27.9M', '5M', 'Damages not recorded', '306M', '2M', '65.8M',\n",
    "          '326M', '60.3M', '208M', '1.42B', '25.4M', 'Damages not recorded',\n",
    "          '1.54B', '1.24B', '7.1B', '10B', '26.5B', '6.2B', '5.37B', '23.3B',\n",
    "          '1.01B', '125B', '12B', '29.4B', '1.76B', '720M', '15.1B', '64.8B',\n",
    "          '91.6B', '25.1B']\n",
    "\n",
    "# 1\n",
    "# Update Recorded Damages\n",
    "conversion = {\"M\": 1000000,\n",
    "             \"B\": 1000000000}\n",
    "def float_conversion(list):\n",
    "    updated_damages = []\n",
    "\n",
    "    for damage in damages:\n",
    "        if damage[-1] == \"M\":\n",
    "            updated_damages.append(float(damage[:-1]) * conversion.get(\"M\"))\n",
    "        elif damage[-1] == \"B\":\n",
    "            updated_damages.append(float(damage[:-1]) * float(conversion.get(\"B\")))\n",
    "        else:\n",
    "            updated_damages.append(\"\".join(damage))\n",
    "            \n",
    "    print(updated_damages)\n",
    "    \n",
    "float_conversion(damages)\n",
    "\n",
    "# test function by updating damages\n"
   ]
  },
  {
   "cell_type": "markdown",
   "id": "36ac47b6",
   "metadata": {},
   "source": [
    "2. Additional data collected on the `34` strongest Atlantic hurricanes are provided in a series of lists. The data includes:\n",
    "   - `names`: names of the hurricanes\n",
    "   - `months`: months in which the hurricanes occurred\n",
    "   - `years`: years in which the hurricanes occurred\n",
    "   - `max_sustained_winds`: maximum sustained winds (miles per hour) of the hurricanes\n",
    "   - `areas_affected`: list of different areas affected by each of the hurricanes\n",
    "   - `deaths`: total number of deaths caused by each of the hurricanes\n",
    "   \n",
    "   The data is organized such that the data at each index, from `0` to `33`, corresponds to the same hurricane.\n",
    "   \n",
    "   For example, `names[0]` yields the \"Cuba I\" hurricane, which occurred in `months[0]` (October) `years[0]` (1924).\n",
    "   \n",
    "   Write a function that constructs a dictionary made out of the lists, where the keys of the dictionary are the names of the hurricanes, and the values are dictionaries themselves containing a key for each piece of data (`Name`, `Month`, `Year`, `Max Sustained Wind`, `Areas Affected`, `Damage`, `Death`) about the hurricane.\n",
    "   \n",
    "   Thus the key `\"Cuba I\"` would have the value: `{'Name': 'Cuba I', 'Month': 'October', 'Year': 1924, 'Max Sustained Wind': 165, 'Areas Affected': ['Central America', 'Mexico', 'Cuba', 'Florida', 'The Bahamas'], 'Damage': 'Damages not recorded', 'Deaths': 90}`.\n",
    "   \n",
    "   Test your function on the lists of data provided."
   ]
  },
  {
   "cell_type": "code",
   "execution_count": 15,
   "id": "641aa113",
   "metadata": {},
   "outputs": [
    {
     "name": "stdout",
     "output_type": "stream",
     "text": [
      "{'Cuba I': {'Names': 'Cuba I', 'Months': 'October', 'Years': 1924, 'Maximum Sustained Winds': 165, 'Areas Affected by Hurricane': ['Central America', 'Mexico', 'Cuba', 'Florida', 'The Bahamas'], 'Damages': 'Damages not recorded', 'Deaths': 90}, 'San Felipe II Okeechobee': {'Names': 'San Felipe II Okeechobee', 'Months': 'September', 'Years': 1928, 'Maximum Sustained Winds': 160, 'Areas Affected by Hurricane': ['Lesser Antilles', 'The Bahamas', 'United States East Coast', 'Atlantic Canada'], 'Damages': '100M', 'Deaths': 4000}, 'Bahamas': {'Names': 'Bahamas', 'Months': 'September', 'Years': 1932, 'Maximum Sustained Winds': 160, 'Areas Affected by Hurricane': ['The Bahamas', 'Northeastern United States'], 'Damages': 'Damages not recorded', 'Deaths': 16}, 'Cuba II': {'Names': 'Cuba II', 'Months': 'November', 'Years': 1932, 'Maximum Sustained Winds': 175, 'Areas Affected by Hurricane': ['Lesser Antilles', 'Jamaica', 'Cayman Islands', 'Cuba', 'The Bahamas', 'Bermuda'], 'Damages': '40M', 'Deaths': 3103}, 'CubaBrownsville': {'Names': 'CubaBrownsville', 'Months': 'August', 'Years': 1933, 'Maximum Sustained Winds': 160, 'Areas Affected by Hurricane': ['The Bahamas', 'Cuba', 'Florida', 'Texas', 'Tamaulipas'], 'Damages': '27.9M', 'Deaths': 179}, 'Tampico': {'Names': 'Tampico', 'Months': 'September', 'Years': 1933, 'Maximum Sustained Winds': 160, 'Areas Affected by Hurricane': ['Jamaica', 'Yucatn Peninsula'], 'Damages': '5M', 'Deaths': 184}, 'Labor Day': {'Names': 'Labor Day', 'Months': 'September', 'Years': 1935, 'Maximum Sustained Winds': 185, 'Areas Affected by Hurricane': ['The Bahamas', 'Florida', 'Georgia', 'The Carolinas', 'Virginia'], 'Damages': 'Damages not recorded', 'Deaths': 408}, 'New England': {'Names': 'New England', 'Months': 'September', 'Years': 1938, 'Maximum Sustained Winds': 160, 'Areas Affected by Hurricane': ['Southeastern United States', 'Northeastern United States', 'Southwestern Quebec'], 'Damages': '306M', 'Deaths': 682}, 'Carol': {'Names': 'Carol', 'Months': 'September', 'Years': 1953, 'Maximum Sustained Winds': 160, 'Areas Affected by Hurricane': ['Bermuda', 'New England', 'Atlantic Canada'], 'Damages': '2M', 'Deaths': 5}, 'Janet': {'Names': 'Janet', 'Months': 'September', 'Years': 1955, 'Maximum Sustained Winds': 175, 'Areas Affected by Hurricane': ['Lesser Antilles', 'Central America'], 'Damages': '65.8M', 'Deaths': 1023}, 'Carla': {'Names': 'Carla', 'Months': 'September', 'Years': 1961, 'Maximum Sustained Winds': 175, 'Areas Affected by Hurricane': ['Texas', 'Louisiana', 'Midwestern United States'], 'Damages': '326M', 'Deaths': 43}, 'Hattie': {'Names': 'Hattie', 'Months': 'October', 'Years': 1961, 'Maximum Sustained Winds': 160, 'Areas Affected by Hurricane': ['Central America'], 'Damages': '60.3M', 'Deaths': 319}, 'Beulah': {'Names': 'Beulah', 'Months': 'September', 'Years': 1967, 'Maximum Sustained Winds': 160, 'Areas Affected by Hurricane': ['The Caribbean', 'Mexico', 'Texas'], 'Damages': '208M', 'Deaths': 688}, 'Camille': {'Names': 'Camille', 'Months': 'August', 'Years': 1969, 'Maximum Sustained Winds': 175, 'Areas Affected by Hurricane': ['Cuba', 'United States Gulf Coast'], 'Damages': '1.42B', 'Deaths': 259}, 'Edith': {'Names': 'Edith', 'Months': 'September', 'Years': 1971, 'Maximum Sustained Winds': 160, 'Areas Affected by Hurricane': ['The Caribbean', 'Central America', 'Mexico', 'United States Gulf Coast'], 'Damages': '25.4M', 'Deaths': 37}, 'Anita': {'Names': 'Anita', 'Months': 'September', 'Years': 1977, 'Maximum Sustained Winds': 175, 'Areas Affected by Hurricane': ['Mexico'], 'Damages': 'Damages not recorded', 'Deaths': 11}, 'David': {'Names': 'David', 'Months': 'August', 'Years': 1979, 'Maximum Sustained Winds': 175, 'Areas Affected by Hurricane': ['The Caribbean', 'United States East coast'], 'Damages': '1.54B', 'Deaths': 2068}, 'Allen': {'Names': 'Allen', 'Months': 'August', 'Years': 1980, 'Maximum Sustained Winds': 190, 'Areas Affected by Hurricane': ['The Caribbean', 'Yucatn Peninsula', 'Mexico', 'South Texas'], 'Damages': '1.24B', 'Deaths': 269}, 'Gilbert': {'Names': 'Gilbert', 'Months': 'September', 'Years': 1988, 'Maximum Sustained Winds': 185, 'Areas Affected by Hurricane': ['Jamaica', 'Venezuela', 'Central America', 'Hispaniola', 'Mexico'], 'Damages': '7.1B', 'Deaths': 318}, 'Hugo': {'Names': 'Hugo', 'Months': 'September', 'Years': 1989, 'Maximum Sustained Winds': 160, 'Areas Affected by Hurricane': ['The Caribbean', 'United States East Coast'], 'Damages': '10B', 'Deaths': 107}, 'Andrew': {'Names': 'Andrew', 'Months': 'August', 'Years': 1992, 'Maximum Sustained Winds': 175, 'Areas Affected by Hurricane': ['The Bahamas', 'Florida', 'United States Gulf Coast'], 'Damages': '26.5B', 'Deaths': 65}, 'Mitch': {'Names': 'Mitch', 'Months': 'October', 'Years': 1998, 'Maximum Sustained Winds': 180, 'Areas Affected by Hurricane': ['Central America', 'Yucatn Peninsula', 'South Florida'], 'Damages': '6.2B', 'Deaths': 19325}, 'Isabel': {'Names': 'Isabel', 'Months': 'September', 'Years': 2003, 'Maximum Sustained Winds': 165, 'Areas Affected by Hurricane': ['Greater Antilles', 'Bahamas', 'Eastern United States', 'Ontario'], 'Damages': '5.37B', 'Deaths': 51}, 'Ivan': {'Names': 'Ivan', 'Months': 'September', 'Years': 2004, 'Maximum Sustained Winds': 165, 'Areas Affected by Hurricane': ['The Caribbean', 'Venezuela', 'United States Gulf Coast'], 'Damages': '23.3B', 'Deaths': 124}, 'Emily': {'Names': 'Emily', 'Months': 'July', 'Years': 2005, 'Maximum Sustained Winds': 160, 'Areas Affected by Hurricane': ['Windward Islands', 'Jamaica', 'Mexico', 'Texas'], 'Damages': '1.01B', 'Deaths': 17}, 'Katrina': {'Names': 'Katrina', 'Months': 'August', 'Years': 2005, 'Maximum Sustained Winds': 175, 'Areas Affected by Hurricane': ['Bahamas', 'United States Gulf Coast'], 'Damages': '125B', 'Deaths': 1836}, 'Rita': {'Names': 'Rita', 'Months': 'September', 'Years': 2005, 'Maximum Sustained Winds': 180, 'Areas Affected by Hurricane': ['Cuba', 'United States Gulf Coast'], 'Damages': '12B', 'Deaths': 125}, 'Wilma': {'Names': 'Wilma', 'Months': 'October', 'Years': 2005, 'Maximum Sustained Winds': 185, 'Areas Affected by Hurricane': ['Greater Antilles', 'Central America', 'Florida'], 'Damages': '29.4B', 'Deaths': 87}, 'Dean': {'Names': 'Dean', 'Months': 'August', 'Years': 2007, 'Maximum Sustained Winds': 175, 'Areas Affected by Hurricane': ['The Caribbean', 'Central America'], 'Damages': '1.76B', 'Deaths': 45}, 'Felix': {'Names': 'Felix', 'Months': 'September', 'Years': 2007, 'Maximum Sustained Winds': 175, 'Areas Affected by Hurricane': ['Nicaragua', 'Honduras'], 'Damages': '720M', 'Deaths': 133}, 'Matthew': {'Names': 'Matthew', 'Months': 'October', 'Years': 2016, 'Maximum Sustained Winds': 165, 'Areas Affected by Hurricane': ['Antilles', 'Venezuela', 'Colombia', 'United States East Coast', 'Atlantic Canada'], 'Damages': '15.1B', 'Deaths': 603}, 'Irma': {'Names': 'Irma', 'Months': 'September', 'Years': 2017, 'Maximum Sustained Winds': 180, 'Areas Affected by Hurricane': ['Cape Verde', 'The Caribbean', 'British Virgin Islands', 'U.S. Virgin Islands', 'Cuba', 'Florida'], 'Damages': '64.8B', 'Deaths': 138}, 'Maria': {'Names': 'Maria', 'Months': 'September', 'Years': 2017, 'Maximum Sustained Winds': 175, 'Areas Affected by Hurricane': ['Lesser Antilles', 'Virgin Islands', 'Puerto Rico', 'Dominican Republic', 'Turks and Caicos Islands'], 'Damages': '91.6B', 'Deaths': 3057}, 'Michael': {'Names': 'Michael', 'Months': 'October', 'Years': 2018, 'Maximum Sustained Winds': 160, 'Areas Affected by Hurricane': ['Central America', 'United States Gulf Coast (especially Florida Panhandle)'], 'Damages': '25.1B', 'Deaths': 74}}\n"
     ]
    }
   ],
   "source": [
    "# names of hurricanes\n",
    "names = ['Cuba I', 'San Felipe II Okeechobee', 'Bahamas', 'Cuba II', 'CubaBrownsville', 'Tampico', 'Labor Day', 'New England', 'Carol', 'Janet', 'Carla', 'Hattie', 'Beulah', 'Camille', 'Edith', 'Anita', 'David', 'Allen', 'Gilbert', 'Hugo', 'Andrew', 'Mitch', 'Isabel', 'Ivan', 'Emily', 'Katrina', 'Rita', 'Wilma', 'Dean', 'Felix', 'Matthew', 'Irma', 'Maria', 'Michael']\n",
    "\n",
    "# months of hurricanes\n",
    "months = ['October', 'September', 'September', 'November', 'August', 'September', 'September', 'September', 'September', 'September', 'September', 'October', 'September', 'August', 'September', 'September', 'August', 'August', 'September', 'September', 'August', 'October', 'September', 'September', 'July', 'August', 'September', 'October', 'August', 'September', 'October', 'September', 'September', 'October']\n",
    "\n",
    "# years of hurricanes\n",
    "years = [1924, 1928, 1932, 1932, 1933, 1933, 1935, 1938, 1953, 1955, 1961, 1961, 1967, 1969, 1971, 1977, 1979, 1980, 1988, 1989, 1992, 1998, 2003, 2004, 2005, 2005, 2005, 2005, 2007, 2007, 2016, 2017, 2017, 2018]\n",
    "\n",
    "# maximum sustained winds (mph) of hurricanes\n",
    "max_sustained_winds = [165, 160, 160, 175, 160, 160, 185, 160, 160, 175, 175, 160, 160, 175, 160, 175, 175, 190, 185, 160, 175, 180, 165, 165, 160, 175, 180, 185, 175, 175, 165, 180, 175, 160]\n",
    "\n",
    "# areas affected by each hurricane\n",
    "areas_affected = [['Central America', 'Mexico', 'Cuba', 'Florida', 'The Bahamas'], ['Lesser Antilles', 'The Bahamas', 'United States East Coast', 'Atlantic Canada'], ['The Bahamas', 'Northeastern United States'], ['Lesser Antilles', 'Jamaica', 'Cayman Islands', 'Cuba', 'The Bahamas', 'Bermuda'], ['The Bahamas', 'Cuba', 'Florida', 'Texas', 'Tamaulipas'], ['Jamaica', 'Yucatn Peninsula'], ['The Bahamas', 'Florida', 'Georgia', 'The Carolinas', 'Virginia'], ['Southeastern United States', 'Northeastern United States', 'Southwestern Quebec'], ['Bermuda', 'New England', 'Atlantic Canada'], ['Lesser Antilles', 'Central America'], ['Texas', 'Louisiana', 'Midwestern United States'], ['Central America'], ['The Caribbean', 'Mexico', 'Texas'], ['Cuba', 'United States Gulf Coast'], ['The Caribbean', 'Central America', 'Mexico', 'United States Gulf Coast'], ['Mexico'], ['The Caribbean', 'United States East coast'], ['The Caribbean', 'Yucatn Peninsula', 'Mexico', 'South Texas'], ['Jamaica', 'Venezuela', 'Central America', 'Hispaniola', 'Mexico'], ['The Caribbean', 'United States East Coast'], ['The Bahamas', 'Florida', 'United States Gulf Coast'], ['Central America', 'Yucatn Peninsula', 'South Florida'], ['Greater Antilles', 'Bahamas', 'Eastern United States', 'Ontario'], ['The Caribbean', 'Venezuela', 'United States Gulf Coast'], ['Windward Islands', 'Jamaica', 'Mexico', 'Texas'], ['Bahamas', 'United States Gulf Coast'], ['Cuba', 'United States Gulf Coast'], ['Greater Antilles', 'Central America', 'Florida'], ['The Caribbean', 'Central America'], ['Nicaragua', 'Honduras'], ['Antilles', 'Venezuela', 'Colombia', 'United States East Coast', 'Atlantic Canada'], ['Cape Verde', 'The Caribbean', 'British Virgin Islands', 'U.S. Virgin Islands', 'Cuba', 'Florida'], ['Lesser Antilles', 'Virgin Islands', 'Puerto Rico', 'Dominican Republic', 'Turks and Caicos Islands'], ['Central America', 'United States Gulf Coast (especially Florida Panhandle)']]\n",
    "\n",
    "# damages (USD($)) of hurricanes\n",
    "damages = ['Damages not recorded', '100M', 'Damages not recorded', '40M', '27.9M', '5M', 'Damages not recorded', '306M', '2M', '65.8M', '326M', '60.3M', '208M', '1.42B', '25.4M', 'Damages not recorded', '1.54B', '1.24B', '7.1B', '10B', '26.5B', '6.2B', '5.37B', '23.3B', '1.01B', '125B', '12B', '29.4B', '1.76B', '720M', '15.1B', '64.8B', '91.6B', '25.1B']\n",
    "\n",
    "# deaths for each hurricane\n",
    "deaths = [90,4000,16,3103,179,184,408,682,5,1023,43,319,688,259,37,11,2068,269,318,107,65,19325,51,124,17,1836,125,87,45,133,603,138,3057,74]\n",
    "\n",
    "# 2\n",
    "# Create a Table\n",
    "def hurricane_dictionary(names, months, years, max_sustained_winds, areas_affected, damages, deaths):\n",
    "    hurricane_info = dict()\n",
    "    hurricane_num = len(names)\n",
    "    for i in range(hurricane_num):\n",
    "        hurricane_info[names[i]] = ({\"Names\": names[i], \n",
    "                       \"Months\": months[i], \n",
    "                       \"Years\": years[i], \n",
    "                       \"Maximum Sustained Winds\": max_sustained_winds[i], \n",
    "                       \"Areas Affected by Hurricane\": areas_affected[i], \n",
    "                       \"Damages\": damages[i], \n",
    "                       \"Deaths\": deaths[i]})\n",
    "       \n",
    "    \n",
    "    return hurricane_info\n",
    "\n",
    "# Create and view the hurricanes dictionary\n",
    "\n",
    "hurricane_dict = hurricane_dictionary(names, months, years, max_sustained_winds, areas_affected, damages, deaths)\n",
    "print(hurricane_dict)"
   ]
  },
  {
   "cell_type": "markdown",
   "id": "6d0a1933",
   "metadata": {},
   "source": [
    "3. In addition to organizing the hurricanes in a dictionary with names as the key, you want to be able to organize the hurricanes by year.\n",
    "\n",
    "   Write a function that converts the current dictionary of hurricanes to a new dictionary, where the keys are years and the values are lists containing a dictionary for each hurricane that occurred in that year.\n",
    "   \n",
    "   For example, the key `1932` would yield the value: `[{'Name': 'Bahamas', 'Month': 'September', 'Year': 1932, 'Max Sustained Wind': 160, 'Areas Affected': ['The Bahamas', 'Northeastern United States'], 'Damage': 'Damage not recorded', 'Deaths': 16}, {'Name': 'Cuba II', 'Month': 'November', 'Year': 1932, 'Max Sustained Wind': 175, 'Areas Affected': ['Lesser Antilles', 'Jamaica', 'Cayman Islands', 'Cuba', 'The Bahamas', 'Bermuda'], 'Damage': 40000000.0, 'Deaths': 3103}]`.\n",
    "   \n",
    "   Test your function on your hurricane dictionary."
   ]
  },
  {
   "cell_type": "code",
   "execution_count": 4,
   "id": "1ef2edea",
   "metadata": {},
   "outputs": [
    {
     "name": "stdout",
     "output_type": "stream",
     "text": [
      "[{'Names': 'Michael', 'Months': 'October', 'Years': 2018, 'Maximum Sustained Winds': 160, 'Areas Affected by Hurricane': ['Central America', 'United States Gulf Coast (especially Florida Panhandle)'], 'Damages': '25.1B', 'Deaths': 74}]\n"
     ]
    }
   ],
   "source": [
    "# 3\n",
    "# Organizing by Year\n",
    "\n",
    "# create a new dictionary of hurricanes with year and key\n",
    "def create_new_dictionary(hurricane_dict):\n",
    "    \n",
    "    hurricanes_by_year = dict()\n",
    "    for hurricane in hurricane_dict:\n",
    "        current_year = hurricane_dict[hurricane][\"Years\"]\n",
    "        current_hurricane = hurricane_dict[hurricane]\n",
    "        if current_year not in hurricanes_by_year:\n",
    "            hurricanes_by_year[current_year] = [current_hurricane]\n",
    "        else:\n",
    "            hurricanes_by_year[current_year].append(current_hurricane)\n",
    "    return hurricanes_by_year\n",
    "\n",
    "hurricanes_by_year = create_new_dictionary(hurricane_dict)\n",
    "print(hurricanes_by_year[2018])\n"
   ]
  },
  {
   "cell_type": "markdown",
   "id": "66973f77",
   "metadata": {},
   "source": [
    "4. You believe that knowing how often each of the areas of the Atlantic are affected by these strong hurricanes is important for making preparations for future hurricanes.\n",
    "\n",
    "   Write a function that counts how often each area is listed as an affected area of a hurricane. Store and return the results in a dictionary where the keys are the affected areas and the values are counts of how many times the areas were affected.\n",
    "   \n",
    "   Test your function on your hurricane dictionary."
   ]
  },
  {
   "cell_type": "code",
   "execution_count": 5,
   "id": "bff86f77",
   "metadata": {},
   "outputs": [
    {
     "name": "stdout",
     "output_type": "stream",
     "text": [
      "{'Central America': 9, 'Mexico': 7, 'Cuba': 6, 'Florida': 6, 'The Bahamas': 7, 'Lesser Antilles': 4, 'United States East Coast': 3, 'Atlantic Canada': 3, 'Northeastern United States': 2, 'Jamaica': 4, 'Cayman Islands': 1, 'Bermuda': 2, 'Texas': 4, 'Tamaulipas': 1, 'Yucatn Peninsula': 3, 'Georgia': 1, 'The Carolinas': 1, 'Virginia': 1, 'Southeastern United States': 1, 'Southwestern Quebec': 1, 'New England': 1, 'Louisiana': 1, 'Midwestern United States': 1, 'The Caribbean': 8, 'United States Gulf Coast': 6, 'United States East coast': 1, 'South Texas': 1, 'Venezuela': 3, 'Hispaniola': 1, 'South Florida': 1, 'Greater Antilles': 2, 'Bahamas': 2, 'Eastern United States': 1, 'Ontario': 1, 'Windward Islands': 1, 'Nicaragua': 1, 'Honduras': 1, 'Antilles': 1, 'Colombia': 1, 'Cape Verde': 1, 'British Virgin Islands': 1, 'U.S. Virgin Islands': 1, 'Virgin Islands': 1, 'Puerto Rico': 1, 'Dominican Republic': 1, 'Turks and Caicos Islands': 1, 'United States Gulf Coast (especially Florida Panhandle)': 1}\n"
     ]
    }
   ],
   "source": [
    "# 4\n",
    "# Counting Damaged Areas\n",
    "def area_count(hurricanes):\n",
    "    values = hurricanes.values()\n",
    "    hurr_list = [(value) for value in values]\n",
    "    locations = []\n",
    "    for i in hurr_list:\n",
    "        locations.append(i.get(\"Areas Affected by Hurricane\"))\n",
    "    locations2 = []\n",
    "    for list in locations:\n",
    "        for location in list:\n",
    "            locations2.append(location)\n",
    "# create dictionary of areas to store the number of hurricanes involved in\n",
    "    damaged_areas = dict()\n",
    "    loc_list = []\n",
    "    [loc_list.append(x) for x in locations2 if x not in loc_list]\n",
    "    length = len(loc_list)\n",
    "    for i in range(length):\n",
    "        damaged_areas[loc_list[i]] = locations2.count(loc_list[i])\n",
    "    return(damaged_areas)\n",
    "    \n",
    "print(area_count(hurricane_dict))\n",
    "\n"
   ]
  },
  {
   "cell_type": "code",
   "execution_count": null,
   "id": "82f5053f",
   "metadata": {},
   "outputs": [],
   "source": []
  },
  {
   "cell_type": "markdown",
   "id": "e015eeb3",
   "metadata": {},
   "source": [
    "5. Write a function that finds the area affected by the most hurricanes, and how often it was hit.\n",
    "\n",
    "   Test your function on your affected area dictionary."
   ]
  },
  {
   "cell_type": "code",
   "execution_count": 6,
   "id": "643c73f9",
   "metadata": {},
   "outputs": [
    {
     "name": "stdout",
     "output_type": "stream",
     "text": [
      "Central America: 9\n"
     ]
    }
   ],
   "source": [
    "# 5\n",
    "# Calculating Maximum Hurricane Count\n",
    "def max_hurr_count(hurricanes):\n",
    "    hurr_freq = hurricanes.values()\n",
    "    hurr_loc = hurricanes.keys()\n",
    "    max_hurricanes = max(hurr_freq)\n",
    "    loc_list = []\n",
    "    for i in hurr_loc:\n",
    "        loc_list.append(i)\n",
    "    freq_list = []\n",
    "    for i in hurr_freq:\n",
    "        freq_list.append(i)\n",
    "    hurricane_index = freq_list.index(max_hurricanes)\n",
    "    max_hurr_loc = []\n",
    "    \n",
    "    return(str(loc_list[hurricane_index]) + \": \" + str(freq_list[hurricane_index]))\n",
    "    \n",
    "hurr_count = area_count(hurricane_dict)   \n",
    "print(max_hurr_count(hurr_count))\n",
    "# find most frequently affected area and the number of hurricanes involved in\n"
   ]
  },
  {
   "cell_type": "markdown",
   "id": "4c120f59",
   "metadata": {},
   "source": [
    "6. Write a function that finds the hurricane that caused the greatest number of deaths, and how many deaths it caused.\n",
    "\n",
    "   Test your function on your hurricane dictionary."
   ]
  },
  {
   "cell_type": "code",
   "execution_count": 7,
   "id": "ced02448",
   "metadata": {},
   "outputs": [
    {
     "name": "stdout",
     "output_type": "stream",
     "text": [
      "Mitch: 19325\n"
     ]
    }
   ],
   "source": [
    "# 6\n",
    "# Calculating the Deadliest Hurricane\n",
    "def max_death_count(hurricanes):\n",
    "    values = hurricanes.values()\n",
    "    hurr_list = [value for value in values]\n",
    "    hurr_deaths = []\n",
    "    for i in hurr_list:\n",
    "        hurr_deaths.append(i.get(\"Deaths\"))\n",
    "        \n",
    "    hurr_loc = hurricanes.keys()\n",
    "    max_deaths = max(hurr_deaths)\n",
    "    loc_list = []\n",
    "    for i in hurr_loc:\n",
    "        loc_list.append(i)\n",
    "    deaths_list = []\n",
    "\n",
    "    hurricane_index = hurr_deaths.index(max_deaths)\n",
    "    max_hurr_loc = []\n",
    "    \n",
    "    return(str(loc_list[hurricane_index]) + \": \" + str(hurr_deaths[hurricane_index]))\n",
    "    \n",
    "   \n",
    "print(max_death_count(hurricane_dict))\n",
    "# find highest mortality hurricane and the number of deaths\n"
   ]
  },
  {
   "cell_type": "code",
   "execution_count": null,
   "id": "eee769be",
   "metadata": {
    "scrolled": true
   },
   "outputs": [],
   "source": []
  },
  {
   "cell_type": "markdown",
   "id": "9ddd39b0",
   "metadata": {},
   "source": [
    "7. Just as hurricanes are rated by their windspeed, you want to try rating hurricanes based on other metrics.\n",
    "\n",
    "   Write a function that rates hurricanes on a mortality scale according to the following ratings, where the key is the rating and the value is the upper bound of deaths for that rating.\n",
    "   \n",
    "   ```py\n",
    "   mortality_scale = {0: 0,\n",
    "   1: 100,\n",
    "   2: 500,\n",
    "   3: 1000,\n",
    "   4: 10000}\n",
    "   ```\n",
    "   \n",
    "   For example, a hurricane with a `1` mortality rating would have resulted in greater than `0` but less than or equal to `100` deaths. A hurricane with a `5` mortality would have resulted in greater than `10000` deaths.\n",
    "   \n",
    "   Store the hurricanes in a new dictionary where the keys are the mortaility ratings and the values are lists containing a dictionary for each hurricane that falls into that mortality rating.\n",
    "   \n",
    "   Test your function on your hurricane dictionary."
   ]
  },
  {
   "cell_type": "code",
   "execution_count": 89,
   "id": "9eea4dc7",
   "metadata": {},
   "outputs": [
    {
     "name": "stdout",
     "output_type": "stream",
     "text": [
      "{'0': [], '1': [{'Names': 'Cuba I', 'Months': 'October', 'Years': 1924, 'Maximum Sustained Winds': 165, 'Areas Affected by Hurricane': ['Central America', 'Mexico', 'Cuba', 'Florida', 'The Bahamas'], 'Damages': 'Damages not recorded', 'Deaths': 90}, {'Names': 'Bahamas', 'Months': 'September', 'Years': 1932, 'Maximum Sustained Winds': 160, 'Areas Affected by Hurricane': ['The Bahamas', 'Northeastern United States'], 'Damages': 'Damages not recorded', 'Deaths': 16}, {'Names': 'Carol', 'Months': 'September', 'Years': 1953, 'Maximum Sustained Winds': 160, 'Areas Affected by Hurricane': ['Bermuda', 'New England', 'Atlantic Canada'], 'Damages': '2M', 'Deaths': 5}, {'Names': 'Carla', 'Months': 'September', 'Years': 1961, 'Maximum Sustained Winds': 175, 'Areas Affected by Hurricane': ['Texas', 'Louisiana', 'Midwestern United States'], 'Damages': '326M', 'Deaths': 43}, {'Names': 'Edith', 'Months': 'September', 'Years': 1971, 'Maximum Sustained Winds': 160, 'Areas Affected by Hurricane': ['The Caribbean', 'Central America', 'Mexico', 'United States Gulf Coast'], 'Damages': '25.4M', 'Deaths': 37}, {'Names': 'Anita', 'Months': 'September', 'Years': 1977, 'Maximum Sustained Winds': 175, 'Areas Affected by Hurricane': ['Mexico'], 'Damages': 'Damages not recorded', 'Deaths': 11}, {'Names': 'Andrew', 'Months': 'August', 'Years': 1992, 'Maximum Sustained Winds': 175, 'Areas Affected by Hurricane': ['The Bahamas', 'Florida', 'United States Gulf Coast'], 'Damages': '26.5B', 'Deaths': 65}, {'Names': 'Isabel', 'Months': 'September', 'Years': 2003, 'Maximum Sustained Winds': 165, 'Areas Affected by Hurricane': ['Greater Antilles', 'Bahamas', 'Eastern United States', 'Ontario'], 'Damages': '5.37B', 'Deaths': 51}, {'Names': 'Emily', 'Months': 'July', 'Years': 2005, 'Maximum Sustained Winds': 160, 'Areas Affected by Hurricane': ['Windward Islands', 'Jamaica', 'Mexico', 'Texas'], 'Damages': '1.01B', 'Deaths': 17}, {'Names': 'Wilma', 'Months': 'October', 'Years': 2005, 'Maximum Sustained Winds': 185, 'Areas Affected by Hurricane': ['Greater Antilles', 'Central America', 'Florida'], 'Damages': '29.4B', 'Deaths': 87}, {'Names': 'Dean', 'Months': 'August', 'Years': 2007, 'Maximum Sustained Winds': 175, 'Areas Affected by Hurricane': ['The Caribbean', 'Central America'], 'Damages': '1.76B', 'Deaths': 45}, {'Names': 'Michael', 'Months': 'October', 'Years': 2018, 'Maximum Sustained Winds': 160, 'Areas Affected by Hurricane': ['Central America', 'United States Gulf Coast (especially Florida Panhandle)'], 'Damages': '25.1B', 'Deaths': 74}], '2': [{'Names': 'CubaBrownsville', 'Months': 'August', 'Years': 1933, 'Maximum Sustained Winds': 160, 'Areas Affected by Hurricane': ['The Bahamas', 'Cuba', 'Florida', 'Texas', 'Tamaulipas'], 'Damages': '27.9M', 'Deaths': 179}, {'Names': 'Tampico', 'Months': 'September', 'Years': 1933, 'Maximum Sustained Winds': 160, 'Areas Affected by Hurricane': ['Jamaica', 'Yucatn Peninsula'], 'Damages': '5M', 'Deaths': 184}, {'Names': 'Labor Day', 'Months': 'September', 'Years': 1935, 'Maximum Sustained Winds': 185, 'Areas Affected by Hurricane': ['The Bahamas', 'Florida', 'Georgia', 'The Carolinas', 'Virginia'], 'Damages': 'Damages not recorded', 'Deaths': 408}, {'Names': 'Hattie', 'Months': 'October', 'Years': 1961, 'Maximum Sustained Winds': 160, 'Areas Affected by Hurricane': ['Central America'], 'Damages': '60.3M', 'Deaths': 319}, {'Names': 'Camille', 'Months': 'August', 'Years': 1969, 'Maximum Sustained Winds': 175, 'Areas Affected by Hurricane': ['Cuba', 'United States Gulf Coast'], 'Damages': '1.42B', 'Deaths': 259}, {'Names': 'Allen', 'Months': 'August', 'Years': 1980, 'Maximum Sustained Winds': 190, 'Areas Affected by Hurricane': ['The Caribbean', 'Yucatn Peninsula', 'Mexico', 'South Texas'], 'Damages': '1.24B', 'Deaths': 269}, {'Names': 'Gilbert', 'Months': 'September', 'Years': 1988, 'Maximum Sustained Winds': 185, 'Areas Affected by Hurricane': ['Jamaica', 'Venezuela', 'Central America', 'Hispaniola', 'Mexico'], 'Damages': '7.1B', 'Deaths': 318}, {'Names': 'Hugo', 'Months': 'September', 'Years': 1989, 'Maximum Sustained Winds': 160, 'Areas Affected by Hurricane': ['The Caribbean', 'United States East Coast'], 'Damages': '10B', 'Deaths': 107}, {'Names': 'Ivan', 'Months': 'September', 'Years': 2004, 'Maximum Sustained Winds': 165, 'Areas Affected by Hurricane': ['The Caribbean', 'Venezuela', 'United States Gulf Coast'], 'Damages': '23.3B', 'Deaths': 124}, {'Names': 'Rita', 'Months': 'September', 'Years': 2005, 'Maximum Sustained Winds': 180, 'Areas Affected by Hurricane': ['Cuba', 'United States Gulf Coast'], 'Damages': '12B', 'Deaths': 125}, {'Names': 'Felix', 'Months': 'September', 'Years': 2007, 'Maximum Sustained Winds': 175, 'Areas Affected by Hurricane': ['Nicaragua', 'Honduras'], 'Damages': '720M', 'Deaths': 133}, {'Names': 'Irma', 'Months': 'September', 'Years': 2017, 'Maximum Sustained Winds': 180, 'Areas Affected by Hurricane': ['Cape Verde', 'The Caribbean', 'British Virgin Islands', 'U.S. Virgin Islands', 'Cuba', 'Florida'], 'Damages': '64.8B', 'Deaths': 138}], '3': [{'Names': 'New England', 'Months': 'September', 'Years': 1938, 'Maximum Sustained Winds': 160, 'Areas Affected by Hurricane': ['Southeastern United States', 'Northeastern United States', 'Southwestern Quebec'], 'Damages': '306M', 'Deaths': 682}, {'Names': 'Beulah', 'Months': 'September', 'Years': 1967, 'Maximum Sustained Winds': 160, 'Areas Affected by Hurricane': ['The Caribbean', 'Mexico', 'Texas'], 'Damages': '208M', 'Deaths': 688}, {'Names': 'Matthew', 'Months': 'October', 'Years': 2016, 'Maximum Sustained Winds': 165, 'Areas Affected by Hurricane': ['Antilles', 'Venezuela', 'Colombia', 'United States East Coast', 'Atlantic Canada'], 'Damages': '15.1B', 'Deaths': 603}], '4': [{'Names': 'San Felipe II Okeechobee', 'Months': 'September', 'Years': 1928, 'Maximum Sustained Winds': 160, 'Areas Affected by Hurricane': ['Lesser Antilles', 'The Bahamas', 'United States East Coast', 'Atlantic Canada'], 'Damages': '100M', 'Deaths': 4000}, {'Names': 'Cuba II', 'Months': 'November', 'Years': 1932, 'Maximum Sustained Winds': 175, 'Areas Affected by Hurricane': ['Lesser Antilles', 'Jamaica', 'Cayman Islands', 'Cuba', 'The Bahamas', 'Bermuda'], 'Damages': '40M', 'Deaths': 3103}, {'Names': 'Janet', 'Months': 'September', 'Years': 1955, 'Maximum Sustained Winds': 175, 'Areas Affected by Hurricane': ['Lesser Antilles', 'Central America'], 'Damages': '65.8M', 'Deaths': 1023}, {'Names': 'David', 'Months': 'August', 'Years': 1979, 'Maximum Sustained Winds': 175, 'Areas Affected by Hurricane': ['The Caribbean', 'United States East coast'], 'Damages': '1.54B', 'Deaths': 2068}, {'Names': 'Katrina', 'Months': 'August', 'Years': 2005, 'Maximum Sustained Winds': 175, 'Areas Affected by Hurricane': ['Bahamas', 'United States Gulf Coast'], 'Damages': '125B', 'Deaths': 1836}, {'Names': 'Maria', 'Months': 'September', 'Years': 2017, 'Maximum Sustained Winds': 175, 'Areas Affected by Hurricane': ['Lesser Antilles', 'Virgin Islands', 'Puerto Rico', 'Dominican Republic', 'Turks and Caicos Islands'], 'Damages': '91.6B', 'Deaths': 3057}], '5': [{'Names': 'Mitch', 'Months': 'October', 'Years': 1998, 'Maximum Sustained Winds': 180, 'Areas Affected by Hurricane': ['Central America', 'Yucatn Peninsula', 'South Florida'], 'Damages': '6.2B', 'Deaths': 19325}]}\n"
     ]
    }
   ],
   "source": [
    "# 7\n",
    "# Rating Hurricanes by Mortality\n",
    "def hurricane_deaths(hurricanes):\n",
    "    hurr_mortality_scale = {\n",
    "        \"0\":[],\n",
    "        \"1\":[],\n",
    "        \"2\":[],\n",
    "        \"3\":[],\n",
    "        \"4\":[],\n",
    "        \"5\":[]\n",
    "    }\n",
    "    hurr_num = len(hurricanes)\n",
    "    hurr_deaths = deaths\n",
    "    values = hurricanes.values()\n",
    "    hurr_values = [value for value in values]\n",
    "    \n",
    "    for i in range(hurr_num):\n",
    "        if hurr_deaths[i] == 0:\n",
    "            hurr_mortality_scale[\"0\"].append(hurr_values[i])\n",
    "            \n",
    "        elif deaths[i] > 0 and deaths[i] <= 100:\n",
    "            hurr_mortality_scale[\"1\"].append(hurr_values[i])\n",
    "            \n",
    "        elif deaths[i] >100 and deaths[i] <= 500:\n",
    "            hurr_mortality_scale[\"2\"].append(hurr_values[i])\n",
    "            \n",
    "        elif deaths[i] > 500 and deaths[i] <= 1000:\n",
    "            hurr_mortality_scale[\"3\"].append(hurr_values[i])\n",
    "            \n",
    "        elif deaths[i] > 1000 and deaths[i] <= 10000:\n",
    "            hurr_mortality_scale[\"4\"].append(hurr_values[i])\n",
    "        \n",
    "        else:\n",
    "            hurr_mortality_scale[\"5\"].append(hurr_values[i])\n",
    "        \n",
    "\n",
    "    return hurr_mortality_scale\n",
    "    \n",
    "print(hurricane_deaths(hurricane_dict))\n",
    "    \n",
    "\n",
    "# categorize hurricanes in new dictionary with mortality severity as key\n"
   ]
  },
  {
   "cell_type": "markdown",
   "id": "199b0e1c",
   "metadata": {},
   "source": [
    "8. Write a function that finds the hurricane that caused the greatest damage, and how costly it was.\n",
    "\n",
    "   Test your function on your hurricane dictionary."
   ]
  },
  {
   "cell_type": "code",
   "execution_count": 110,
   "id": "b3dc79b4",
   "metadata": {},
   "outputs": [
    {
     "name": "stdout",
     "output_type": "stream",
     "text": [
      "Mitch: 125000000000.0\n"
     ]
    }
   ],
   "source": [
    "# 8\n",
    "# Calculating Hurricane Maximum Damage\n",
    "\n",
    "def max_damage_count(hurricanes):\n",
    "    values = hurricanes.values()\n",
    "    hurr_list = [value for value in values]\n",
    "    hurr_damage = []\n",
    "    hurr_damage2 = []\n",
    "    \n",
    "    for i in hurr_list:\n",
    "        hurr_damage.append(i.get(\"Damages\"))\n",
    "        \n",
    "    hurr_damage = [i for i in hurr_damage if i != \"Damages not recorded\"]\n",
    "    \n",
    "    conv_damage = []\n",
    "    for i in hurr_damage:\n",
    "        if i[-1] == \"M\":\n",
    "            conv_damage.append(float(i[:-1]) * 1000000)\n",
    "        elif i[-1] == \"B\":\n",
    "            conv_damage.append(float(i[:-1]) * 1000000000)\n",
    "        \n",
    "    hurr_name = hurricanes.keys()\n",
    "    max_damage = max(conv_damage)\n",
    "    name_list = []\n",
    "    \n",
    "    for i in hurr_name:\n",
    "        name_list.append(i)\n",
    "    \n",
    "\n",
    "    hurricane_index = conv_damage.index(max_damage)\n",
    "    \n",
    "    \n",
    "    return(str(name_list[hurricane_index]) + \": \" + str(conv_damage[hurricane_index]))\n",
    "    \n",
    "   \n",
    "print(max_damage_count(hurricane_dict))\n",
    "\n",
    "# find highest damage inducing hurricane and its total cost\n"
   ]
  },
  {
   "cell_type": "markdown",
   "id": "58d22ddc",
   "metadata": {},
   "source": [
    "9. Lastly, you want to rate hurricanes according to how much damage they cause.\n",
    "\n",
    "   Write a function that rates hurricanes on a damage scale according to the following ratings, where the key is the rating and the value is the upper bound of damage for that rating.\n",
    "   ```py\n",
    "   damage_scale = {0: 0,\n",
    "   1: 100000000,\n",
    "   2: 1000000000,\n",
    "   3: 10000000000,\n",
    "   4: 50000000000}\n",
    "   ```\n",
    "   \n",
    "   For example, a hurricane with a `1` damage rating would have resulted in damages greater than `0` USD but less than or equal to `100000000` USD. A hurricane with a `5` damage rating would have resulted in damages greater than `50000000000` USD (talk about a lot of money).\n",
    "   \n",
    "   Store the hurricanes in a new dictionary where the keys are damage ratings and the values are lists containing a dictionary for each hurricane that falls into that damage rating.\n",
    "   \n",
    "   Test your function on your hurricane dictionary."
   ]
  },
  {
   "cell_type": "code",
   "execution_count": 128,
   "id": "e543f487",
   "metadata": {},
   "outputs": [
    {
     "name": "stdout",
     "output_type": "stream",
     "text": [
      "{'0': [{'Names': 'Cuba I', 'Months': 'October', 'Years': 1924, 'Maximum Sustained Winds': 165, 'Areas Affected by Hurricane': ['Central America', 'Mexico', 'Cuba', 'Florida', 'The Bahamas'], 'Damages': 'Damages not recorded', 'Deaths': 90}, {'Names': 'Bahamas', 'Months': 'September', 'Years': 1932, 'Maximum Sustained Winds': 160, 'Areas Affected by Hurricane': ['The Bahamas', 'Northeastern United States'], 'Damages': 'Damages not recorded', 'Deaths': 16}, {'Names': 'Labor Day', 'Months': 'September', 'Years': 1935, 'Maximum Sustained Winds': 185, 'Areas Affected by Hurricane': ['The Bahamas', 'Florida', 'Georgia', 'The Carolinas', 'Virginia'], 'Damages': 'Damages not recorded', 'Deaths': 408}, {'Names': 'Anita', 'Months': 'September', 'Years': 1977, 'Maximum Sustained Winds': 175, 'Areas Affected by Hurricane': ['Mexico'], 'Damages': 'Damages not recorded', 'Deaths': 11}], '1': [{'Names': 'San Felipe II Okeechobee', 'Months': 'September', 'Years': 1928, 'Maximum Sustained Winds': 160, 'Areas Affected by Hurricane': ['Lesser Antilles', 'The Bahamas', 'United States East Coast', 'Atlantic Canada'], 'Damages': '100M', 'Deaths': 4000}, {'Names': 'Cuba II', 'Months': 'November', 'Years': 1932, 'Maximum Sustained Winds': 175, 'Areas Affected by Hurricane': ['Lesser Antilles', 'Jamaica', 'Cayman Islands', 'Cuba', 'The Bahamas', 'Bermuda'], 'Damages': '40M', 'Deaths': 3103}, {'Names': 'CubaBrownsville', 'Months': 'August', 'Years': 1933, 'Maximum Sustained Winds': 160, 'Areas Affected by Hurricane': ['The Bahamas', 'Cuba', 'Florida', 'Texas', 'Tamaulipas'], 'Damages': '27.9M', 'Deaths': 179}, {'Names': 'Tampico', 'Months': 'September', 'Years': 1933, 'Maximum Sustained Winds': 160, 'Areas Affected by Hurricane': ['Jamaica', 'Yucatn Peninsula'], 'Damages': '5M', 'Deaths': 184}, {'Names': 'Carol', 'Months': 'September', 'Years': 1953, 'Maximum Sustained Winds': 160, 'Areas Affected by Hurricane': ['Bermuda', 'New England', 'Atlantic Canada'], 'Damages': '2M', 'Deaths': 5}, {'Names': 'Janet', 'Months': 'September', 'Years': 1955, 'Maximum Sustained Winds': 175, 'Areas Affected by Hurricane': ['Lesser Antilles', 'Central America'], 'Damages': '65.8M', 'Deaths': 1023}, {'Names': 'Hattie', 'Months': 'October', 'Years': 1961, 'Maximum Sustained Winds': 160, 'Areas Affected by Hurricane': ['Central America'], 'Damages': '60.3M', 'Deaths': 319}, {'Names': 'Edith', 'Months': 'September', 'Years': 1971, 'Maximum Sustained Winds': 160, 'Areas Affected by Hurricane': ['The Caribbean', 'Central America', 'Mexico', 'United States Gulf Coast'], 'Damages': '25.4M', 'Deaths': 37}], '2': [{'Names': 'New England', 'Months': 'September', 'Years': 1938, 'Maximum Sustained Winds': 160, 'Areas Affected by Hurricane': ['Southeastern United States', 'Northeastern United States', 'Southwestern Quebec'], 'Damages': '306M', 'Deaths': 682}, {'Names': 'Carla', 'Months': 'September', 'Years': 1961, 'Maximum Sustained Winds': 175, 'Areas Affected by Hurricane': ['Texas', 'Louisiana', 'Midwestern United States'], 'Damages': '326M', 'Deaths': 43}, {'Names': 'Beulah', 'Months': 'September', 'Years': 1967, 'Maximum Sustained Winds': 160, 'Areas Affected by Hurricane': ['The Caribbean', 'Mexico', 'Texas'], 'Damages': '208M', 'Deaths': 688}, {'Names': 'Felix', 'Months': 'September', 'Years': 2007, 'Maximum Sustained Winds': 175, 'Areas Affected by Hurricane': ['Nicaragua', 'Honduras'], 'Damages': '720M', 'Deaths': 133}], '3': [{'Names': 'Camille', 'Months': 'August', 'Years': 1969, 'Maximum Sustained Winds': 175, 'Areas Affected by Hurricane': ['Cuba', 'United States Gulf Coast'], 'Damages': '1.42B', 'Deaths': 259}, {'Names': 'David', 'Months': 'August', 'Years': 1979, 'Maximum Sustained Winds': 175, 'Areas Affected by Hurricane': ['The Caribbean', 'United States East coast'], 'Damages': '1.54B', 'Deaths': 2068}, {'Names': 'Allen', 'Months': 'August', 'Years': 1980, 'Maximum Sustained Winds': 190, 'Areas Affected by Hurricane': ['The Caribbean', 'Yucatn Peninsula', 'Mexico', 'South Texas'], 'Damages': '1.24B', 'Deaths': 269}, {'Names': 'Gilbert', 'Months': 'September', 'Years': 1988, 'Maximum Sustained Winds': 185, 'Areas Affected by Hurricane': ['Jamaica', 'Venezuela', 'Central America', 'Hispaniola', 'Mexico'], 'Damages': '7.1B', 'Deaths': 318}, {'Names': 'Hugo', 'Months': 'September', 'Years': 1989, 'Maximum Sustained Winds': 160, 'Areas Affected by Hurricane': ['The Caribbean', 'United States East Coast'], 'Damages': '10B', 'Deaths': 107}, {'Names': 'Mitch', 'Months': 'October', 'Years': 1998, 'Maximum Sustained Winds': 180, 'Areas Affected by Hurricane': ['Central America', 'Yucatn Peninsula', 'South Florida'], 'Damages': '6.2B', 'Deaths': 19325}, {'Names': 'Isabel', 'Months': 'September', 'Years': 2003, 'Maximum Sustained Winds': 165, 'Areas Affected by Hurricane': ['Greater Antilles', 'Bahamas', 'Eastern United States', 'Ontario'], 'Damages': '5.37B', 'Deaths': 51}, {'Names': 'Emily', 'Months': 'July', 'Years': 2005, 'Maximum Sustained Winds': 160, 'Areas Affected by Hurricane': ['Windward Islands', 'Jamaica', 'Mexico', 'Texas'], 'Damages': '1.01B', 'Deaths': 17}, {'Names': 'Dean', 'Months': 'August', 'Years': 2007, 'Maximum Sustained Winds': 175, 'Areas Affected by Hurricane': ['The Caribbean', 'Central America'], 'Damages': '1.76B', 'Deaths': 45}], '4': [{'Names': 'Andrew', 'Months': 'August', 'Years': 1992, 'Maximum Sustained Winds': 175, 'Areas Affected by Hurricane': ['The Bahamas', 'Florida', 'United States Gulf Coast'], 'Damages': '26.5B', 'Deaths': 65}, {'Names': 'Ivan', 'Months': 'September', 'Years': 2004, 'Maximum Sustained Winds': 165, 'Areas Affected by Hurricane': ['The Caribbean', 'Venezuela', 'United States Gulf Coast'], 'Damages': '23.3B', 'Deaths': 124}, {'Names': 'Katrina', 'Months': 'August', 'Years': 2005, 'Maximum Sustained Winds': 175, 'Areas Affected by Hurricane': ['Bahamas', 'United States Gulf Coast'], 'Damages': '125B', 'Deaths': 1836}, {'Names': 'Rita', 'Months': 'September', 'Years': 2005, 'Maximum Sustained Winds': 180, 'Areas Affected by Hurricane': ['Cuba', 'United States Gulf Coast'], 'Damages': '12B', 'Deaths': 125}, {'Names': 'Wilma', 'Months': 'October', 'Years': 2005, 'Maximum Sustained Winds': 185, 'Areas Affected by Hurricane': ['Greater Antilles', 'Central America', 'Florida'], 'Damages': '29.4B', 'Deaths': 87}, {'Names': 'Matthew', 'Months': 'October', 'Years': 2016, 'Maximum Sustained Winds': 165, 'Areas Affected by Hurricane': ['Antilles', 'Venezuela', 'Colombia', 'United States East Coast', 'Atlantic Canada'], 'Damages': '15.1B', 'Deaths': 603}, {'Names': 'Irma', 'Months': 'September', 'Years': 2017, 'Maximum Sustained Winds': 180, 'Areas Affected by Hurricane': ['Cape Verde', 'The Caribbean', 'British Virgin Islands', 'U.S. Virgin Islands', 'Cuba', 'Florida'], 'Damages': '64.8B', 'Deaths': 138}, {'Names': 'Maria', 'Months': 'September', 'Years': 2017, 'Maximum Sustained Winds': 175, 'Areas Affected by Hurricane': ['Lesser Antilles', 'Virgin Islands', 'Puerto Rico', 'Dominican Republic', 'Turks and Caicos Islands'], 'Damages': '91.6B', 'Deaths': 3057}, {'Names': 'Michael', 'Months': 'October', 'Years': 2018, 'Maximum Sustained Winds': 160, 'Areas Affected by Hurricane': ['Central America', 'United States Gulf Coast (especially Florida Panhandle)'], 'Damages': '25.1B', 'Deaths': 74}]}\n"
     ]
    }
   ],
   "source": [
    "# 9\n",
    "# Rating Hurricanes by Damage\n",
    "damage_scale = {0: 0,\n",
    "                1: 100000000,\n",
    "                2: 1000000000,\n",
    "                3: 10000000000,\n",
    "                4: 50000000000}\n",
    "def hurricane_damage(hurricanes):\n",
    "    hurr_damage_scale = {\n",
    "        \"0\":[],\n",
    "        \"1\":[],\n",
    "        \"2\":[],\n",
    "        \"3\":[],\n",
    "        \"4\":[]\n",
    "    }\n",
    "    hurr_num = len(hurricanes)\n",
    "    hurr_damage = damages\n",
    "    values = hurricanes.values()\n",
    "    hurr_values = [value for value in values]\n",
    "    \n",
    "    for i in range(len(hurr_damage)):\n",
    "        if hurr_damage[i] == \"Damages not recorded\" : hurr_damage[i] = 0\n",
    "    \n",
    "    conv_damage = []\n",
    "    for i in hurr_damage:\n",
    "        if i != 0:\n",
    "            if i[-1] == \"M\":\n",
    "                conv_damage.append(float(i[:-1]) * 1000000)\n",
    "            elif i[-1] == \"B\":\n",
    "                conv_damage.append(float(i[:-1]) * 1000000000)\n",
    "        else:\n",
    "            conv_damage.append(int(i))\n",
    "    \n",
    "    for i in range(hurr_num):\n",
    "        if conv_damage[i] == 0:\n",
    "            hurr_damage_scale[\"0\"].append(hurr_values[i])\n",
    "        elif conv_damage[i] > 0 and conv_damage[i] <= 100000000:\n",
    "            hurr_damage_scale[\"1\"].append(hurr_values[i])\n",
    "        elif conv_damage[i] > 100000000 and conv_damage[i] <= 1000000000:\n",
    "            hurr_damage_scale[\"2\"].append(hurr_values[i])\n",
    "        elif conv_damage[i] > 1000000000 and conv_damage[i] <= 10000000000:\n",
    "            hurr_damage_scale[\"3\"].append(hurr_values[i])\n",
    "        else:\n",
    "            hurr_damage_scale[\"4\"].append(hurr_values[i])\n",
    "\n",
    "    return hurr_damage_scale\n",
    "    \n",
    "print(hurricane_damage(hurricane_dict))\n",
    "\n",
    "# categorize hurricanes in new dictionary with damage severity as key\n"
   ]
  },
  {
   "cell_type": "markdown",
   "id": "928c5fd2",
   "metadata": {},
   "source": [
    "## Solution"
   ]
  },
  {
   "cell_type": "markdown",
   "id": "252616a3",
   "metadata": {},
   "source": [
    "Great work! View the **Hurricane Analysis_Solution.ipynb** file or visit [our forums](https://discuss.codecademy.com/t/hurricane-analysis-challenge-project-python/462363) to compare your project to our sample solution code. You can also learn how to host your own solution on GitHub so you can share it with other learners! Your solution might look different than ours, and that's okay! There are multiple ways to solve these projects, and you'll learn more by seeing others' code."
   ]
  },
  {
   "cell_type": "code",
   "execution_count": null,
   "id": "da8f7141",
   "metadata": {},
   "outputs": [],
   "source": []
  }
 ],
 "metadata": {
  "kernelspec": {
   "display_name": "Python 3 (ipykernel)",
   "language": "python",
   "name": "python3"
  },
  "language_info": {
   "codemirror_mode": {
    "name": "ipython",
    "version": 3
   },
   "file_extension": ".py",
   "mimetype": "text/x-python",
   "name": "python",
   "nbconvert_exporter": "python",
   "pygments_lexer": "ipython3",
   "version": "3.11.4"
  },
  "vscode": {
   "interpreter": {
    "hash": "b784193cf0f9970b27f3c12f21dbff8ed97e3cf923dc23fe210654173bc3fdd0"
   }
  }
 },
 "nbformat": 4,
 "nbformat_minor": 5
}
